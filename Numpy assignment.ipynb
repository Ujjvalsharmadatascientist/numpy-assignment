{
 "cells": [
  {
   "cell_type": "code",
   "execution_count": 2,
   "id": "e9721534-b675-4b38-9b84-7a5fc63ee424",
   "metadata": {},
   "outputs": [],
   "source": [
    "import numpy as np"
   ]
  },
  {
   "cell_type": "code",
   "execution_count": 13,
   "id": "00817164-4573-4609-acf4-35ca7b3b3441",
   "metadata": {},
   "outputs": [],
   "source": [
    "l =  [ 1,2,3,4,5]\n",
    "array_list = np.array(object = list_)"
   ]
  },
  {
   "cell_type": "raw",
   "id": "949d5e92-c0db-4894-8525-2a37f9676231",
   "metadata": {},
   "source": [
    "Q1. Is there any difference in the data type of variables list_ and array_list? If there is then write a code\n",
    "to print the data types of both the variables."
   ]
  },
  {
   "cell_type": "code",
   "execution_count": 21,
   "id": "27edf1cf-9268-4281-808e-e4ec988bb3fe",
   "metadata": {},
   "outputs": [
    {
     "name": "stdout",
     "output_type": "stream",
     "text": [
      "Type of list_ is : <class 'list'>\n",
      "Type of array_list is : <class 'numpy.ndarray'>\n"
     ]
    }
   ],
   "source": [
    "print('Type of list_ is :',type(list_))\n",
    "print('Type of array_list is :',type(array_list))"
   ]
  },
  {
   "cell_type": "raw",
   "id": "b6de8e76-c1cc-4efa-aef8-6e99649e478e",
   "metadata": {},
   "source": [
    "Question 2: Write a code to print the data type of each and every element of both the variables list_ and array_list."
   ]
  },
  {
   "cell_type": "code",
   "execution_count": 22,
   "id": "165c86e5-24ed-4c59-b828-324f00a5215d",
   "metadata": {},
   "outputs": [
    {
     "name": "stdout",
     "output_type": "stream",
     "text": [
      "element value:1, datatype = <class 'int'>\n",
      "element value:2, datatype = <class 'int'>\n",
      "element value:3, datatype = <class 'int'>\n",
      "element value:4, datatype = <class 'int'>\n",
      "element value:5, datatype = <class 'int'>\n"
     ]
    }
   ],
   "source": [
    "for i in list_:\n",
    "    print(f'element value:{i}, datatype = {type(i)}')"
   ]
  },
  {
   "cell_type": "code",
   "execution_count": 24,
   "id": "e17dcdb2-7e17-4cdc-8845-97341a0f245b",
   "metadata": {},
   "outputs": [
    {
     "name": "stdout",
     "output_type": "stream",
     "text": [
      "element value:1,datatype=<class 'numpy.int64'>\n",
      "element value:2,datatype=<class 'numpy.int64'>\n",
      "element value:3,datatype=<class 'numpy.int64'>\n",
      "element value:4,datatype=<class 'numpy.int64'>\n",
      "element value:5,datatype=<class 'numpy.int64'>\n"
     ]
    }
   ],
   "source": [
    "for i in array_list:\n",
    "    print(f'element value:{i},datatype={type(i)}')"
   ]
  },
  {
   "cell_type": "raw",
   "id": "060b72aa-e6e7-4bb0-a5dd-ed91caedae50",
   "metadata": {},
   "source": [
    "Question 3: Considering the following changes in the variable, array_list"
   ]
  },
  {
   "cell_type": "code",
   "execution_count": 25,
   "id": "eb7cb7e7-7c71-433d-b5ae-455614963457",
   "metadata": {},
   "outputs": [],
   "source": [
    "array_list=np.array(object=list_,dtype=int)"
   ]
  },
  {
   "cell_type": "code",
   "execution_count": 26,
   "id": "c5fb51f8-fc91-4411-a0dd-b5784134e3fd",
   "metadata": {},
   "outputs": [
    {
     "data": {
      "text/plain": [
       "array([1, 2, 3, 4, 5])"
      ]
     },
     "execution_count": 26,
     "metadata": {},
     "output_type": "execute_result"
    }
   ],
   "source": [
    "array_list"
   ]
  },
  {
   "cell_type": "raw",
   "id": "f915ce63-bb1d-433d-a005-b4308b08dbaf",
   "metadata": {},
   "source": [
    "\n",
    "Will there be any difference in the data type of the elements present in both the variables, list_ and array_list? If so then print the data types of each and every element present in both the variables, list_and array_list\n",
    "\n",
    "Answer :\n",
    "Yes There will be difference in datatypes of elements present in both lists.\n",
    "List elements will have data type string and array_list will have datatype numpy integer\n",
    "Below is code for showing same"
   ]
  },
  {
   "cell_type": "code",
   "execution_count": 27,
   "id": "4ca3c542-c840-4b68-9895-ab3ea0c5c981",
   "metadata": {},
   "outputs": [
    {
     "name": "stdout",
     "output_type": "stream",
     "text": [
      "Element value : 1, datatype = <class 'int'>\n",
      "Element value : 2, datatype = <class 'int'>\n",
      "Element value : 3, datatype = <class 'int'>\n",
      "Element value : 4, datatype = <class 'int'>\n",
      "Element value : 5, datatype = <class 'int'>\n"
     ]
    }
   ],
   "source": [
    "for i in list_:\n",
    "    print(f'Element value : {i}, datatype = {type(i)}')"
   ]
  },
  {
   "cell_type": "code",
   "execution_count": 28,
   "id": "1ca9e2b4-eda8-4fd8-abdb-d6a3737b7482",
   "metadata": {},
   "outputs": [
    {
     "name": "stdout",
     "output_type": "stream",
     "text": [
      "Element value : 1, datatype = <class 'numpy.int64'>\n",
      "Element value : 2, datatype = <class 'numpy.int64'>\n",
      "Element value : 3, datatype = <class 'numpy.int64'>\n",
      "Element value : 4, datatype = <class 'numpy.int64'>\n",
      "Element value : 5, datatype = <class 'numpy.int64'>\n"
     ]
    }
   ],
   "source": [
    "for i in array_list:\n",
    "    print(f'Element value : {i}, datatype = {type(i)}')"
   ]
  },
  {
   "cell_type": "raw",
   "id": "05c206b2-ac02-4baf-ad7e-02e8b8459042",
   "metadata": {},
   "source": [
    "Consider the below code to answer further questions:"
   ]
  },
  {
   "cell_type": "code",
   "execution_count": 29,
   "id": "46257c45-c767-4ee9-a2c4-39faae89eee3",
   "metadata": {},
   "outputs": [],
   "source": [
    "import numpy as np\n",
    "\n",
    "num_list = [ [ 1 , 2 , 3 ] , [ 4 , 5 , 6 ] ]\n",
    "\n",
    "num_array = np.array(object = num_list)"
   ]
  },
  {
   "cell_type": "code",
   "execution_count": 30,
   "id": "045bc8c6-7792-4d3f-a8d0-9576be041e39",
   "metadata": {},
   "outputs": [
    {
     "data": {
      "text/plain": [
       "array([[1, 2, 3],\n",
       "       [4, 5, 6]])"
      ]
     },
     "execution_count": 30,
     "metadata": {},
     "output_type": "execute_result"
    }
   ],
   "source": [
    "num_array"
   ]
  },
  {
   "cell_type": "raw",
   "id": "60d84f7c-69f9-4cd4-b7c6-dcb72677abb3",
   "metadata": {},
   "source": [
    "Question 4: Write a code to find the following characteristics of variable, num_array:\n",
    "1. shape\n",
    "2. size"
   ]
  },
  {
   "cell_type": "code",
   "execution_count": 33,
   "id": "5443d607-b427-407d-8d9d-42141dbe8c83",
   "metadata": {},
   "outputs": [
    {
     "data": {
      "text/plain": [
       "(2, 3)"
      ]
     },
     "execution_count": 33,
     "metadata": {},
     "output_type": "execute_result"
    }
   ],
   "source": [
    "num_array.shape"
   ]
  },
  {
   "cell_type": "code",
   "execution_count": 34,
   "id": "aadfbea1-85b3-49e6-bc33-9eb85f2b37cb",
   "metadata": {},
   "outputs": [
    {
     "data": {
      "text/plain": [
       "6"
      ]
     },
     "execution_count": 34,
     "metadata": {},
     "output_type": "execute_result"
    }
   ],
   "source": [
    "num_array.size"
   ]
  },
  {
   "cell_type": "raw",
   "id": "3a092fa4-1943-4837-af9c-f215a2e7fc81",
   "metadata": {},
   "source": [
    "Question 5: Write a code to create numpy array of 3*3 matrix containing zeros only, using a numpy array creation function.\n",
    "[Hint: The size of the array will be 9 and the shape will be (3,3).]"
   ]
  },
  {
   "cell_type": "code",
   "execution_count": 35,
   "id": "2a00126c-2da2-4811-a8f9-04e5f5b6e9e5",
   "metadata": {},
   "outputs": [
    {
     "data": {
      "text/plain": [
       "array([[0., 0., 0.],\n",
       "       [0., 0., 0.],\n",
       "       [0., 0., 0.]])"
      ]
     },
     "execution_count": 35,
     "metadata": {},
     "output_type": "execute_result"
    }
   ],
   "source": [
    "arr5=np.zeros((3,3))\n",
    "arr5"
   ]
  },
  {
   "cell_type": "code",
   "execution_count": 37,
   "id": "b8b32c84-1a1b-4254-b1e3-36720f90e06f",
   "metadata": {},
   "outputs": [
    {
     "name": "stdout",
     "output_type": "stream",
     "text": [
      "Size of arr5 is 9\n",
      "Shape of arr5 is (3, 3)\n"
     ]
    }
   ],
   "source": [
    "print(f'Size of arr5 is {arr5.size}')\n",
    "print(f'Shape of arr5 is {arr5.shape}')"
   ]
  },
  {
   "cell_type": "code",
   "execution_count": null,
   "id": "826f3bc5-a3dd-419f-98b1-537bf90de24e",
   "metadata": {},
   "outputs": [],
   "source": [
    "Question 6: Create an identity matrix of shape (5,5) using numpy functions?\n",
    "[Hint: An identity matrix is a matrix containing 1 diagonally and other elements will be 0.]"
   ]
  }
 ],
 "metadata": {
  "kernelspec": {
   "display_name": "Python 3 (ipykernel)",
   "language": "python",
   "name": "python3"
  },
  "language_info": {
   "codemirror_mode": {
    "name": "ipython",
    "version": 3
   },
   "file_extension": ".py",
   "mimetype": "text/x-python",
   "name": "python",
   "nbconvert_exporter": "python",
   "pygments_lexer": "ipython3",
   "version": "3.10.8"
  }
 },
 "nbformat": 4,
 "nbformat_minor": 5
}
